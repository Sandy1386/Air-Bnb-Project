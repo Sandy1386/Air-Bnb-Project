{
 "cells": [
  {
   "cell_type": "markdown",
   "metadata": {
    "id": "vncDsAP0Gaoa"
   },
   "source": [
    "# **Project Name**   Airbnb Bookings Analysis \n",
    "\n"
   ]
  },
  {
   "cell_type": "markdown",
   "metadata": {
    "id": "beRrZCGUAJYm"
   },
   "source": [
    "##### **Project Type**    - EDA/Regression/Classification/Unsupervised\n",
    "##### **Contribution**    - Team\n",
    "##### **Team Member 1 -** Sandesh Salunke\n",
    "##### **Team Member 2 -** Irfan Momin\n",
    "##### **Team Member 3 -** Sushil Ghodvinde\n",
    "##### **Team Member 4 -** Rushikesh Pingle"
   ]
  },
  {
   "cell_type": "markdown",
   "metadata": {
    "id": "FJNUwmbgGyua"
   },
   "source": [
    "# **Project Summary -**"
   ]
  },
  {
   "cell_type": "markdown",
   "metadata": {
    "id": "F6v_1wHtG2nS"
   },
   "source": [
    "Since 2008, guests and hosts have used Airbnb to expand on traveling possibilities and present a more unique, personalized way of experiencing the world. Today, Airbnb became one of a kind service that is used and recognized by the whole world. Data analysis on millions of listings provided through Airbnb is a crucial factor for the company. These millions of listings generate a lot of data - data that can be analyzed and used for security, business decisions, understanding of customers' and providers' (hosts) behavior and performance on the platform, guiding marketing initiatives, implementation of innovative additional services and much more.\n",
    "\n",
    "\n",
    "\n"
   ]
  },
  {
   "cell_type": "markdown",
   "metadata": {
    "id": "w6K7xa23Elo4"
   },
   "source": [
    "# **GitHub Link -**"
   ]
  },
  {
   "cell_type": "markdown",
   "metadata": {
    "id": "h1o69JH3Eqqn"
   },
   "source": [
    "https://github.com/Sandy1386/Sandesh-Salunke.git"
   ]
  },
  {
   "cell_type": "markdown",
   "metadata": {
    "id": "yQaldy8SH6Dl"
   },
   "source": [
    "# **Problem Statement**\n"
   ]
  },
  {
   "cell_type": "markdown",
   "metadata": {
    "id": "DpeJGUA3kjGy"
   },
   "source": [
    "**\n",
    "\n",
    "1) Which hosts are having heighest number of appartments ?\n",
    "\n",
    "2) Which are the top 10 neighbourhood which are having maximum number of appartments for airbnb in the respective neighbourhood ?\n",
    "\n",
    "3) What are the neighbourhood in each group which are having maximum prices in thier rspective neighbourhood_group ?\n",
    "\n",
    "4) How neighborhood is realted with reviews ?\n",
    "\n",
    "5) What can we learn from predictions? (ex: locations, prices, reviews, etc)\n",
    "\n",
    "6) What is the distribution of the room type and its distribution over the location ?\n",
    "\n",
    "7) How does the Room_type is distributed over Neighbourhood_Group are the ratios of respective room_types more or less same over each neighbourhood_group ?\n",
    "\n",
    "8) How the price column is distributed over room_type and are there any Surprising items in price column ?\n",
    "\n",
    "9) Which are the top 5 hosts that have obatained heighest no. of reviews ?\n",
    "\n",
    "10) What is the average preferred price by customers according to the neighbourhood_group for each category of Room_type?\n",
    "\n",
    "\n",
    "\n"
   ]
  },
  {
   "cell_type": "markdown",
   "metadata": {
    "id": "PH-0ReGfmX4f"
   },
   "source": [
    "# **Define Your Business Objective?**"
   ]
  },
  {
   "cell_type": "markdown",
   "metadata": {
    "id": "PhDvGCAqmjP1"
   },
   "source": [
    "# We believe that Airbnb can be more than a marketplace that merely connects guests to Hosts. There goal are to provide the ultimate service for guests, anticipating their needs and going above and beyond—just like a good Host."
   ]
  },
  {
   "cell_type": "markdown",
   "metadata": {
    "id": "mDgbUHAGgjLW"
   },
   "source": [
    "# **General Guidelines** : -  "
   ]
  },
  {
   "cell_type": "markdown",
   "metadata": {
    "id": "ZrxVaUj-hHfC"
   },
   "source": [
    "1.   Well-structured, formatted, and commented code is required. \n",
    "2.   Exception Handling, Production Grade Code & Deployment Ready Code will be a plus. Those students will be awarded some additional credits. \n",
    "     \n",
    "     The additional credits will have advantages over other students during Star Student selection.\n",
    "       \n",
    "             [ Note: - Deployment Ready Code is defined as, the whole .ipynb notebook should be executable in one go\n",
    "                       without a single error logged. ]\n",
    "\n",
    "3.   Each and every logic should have proper comments.\n",
    "4. You may add as many number of charts you want. Make Sure for each and every chart the following format should be answered.\n",
    "        \n",
    "\n",
    "```\n",
    "# Chart visualization code\n",
    "```\n",
    "            \n",
    "\n",
    "*   Why did you pick the specific chart?\n",
    "*   What is/are the insight(s) found from the chart?\n",
    "* Will the gained insights help creating a positive business impact? \n",
    "Are there any insights that lead to negative growth? Justify with specific reason.\n",
    "\n",
    "5. You have to create at least 20 logical & meaningful charts having important insights.\n",
    "\n",
    "\n",
    "[ Hints : - Do the Vizualization in  a structured way while following \"UBM\" Rule. \n",
    "\n",
    "U - Univariate Analysis,\n",
    "\n",
    "B - Bivariate Analysis (Numerical - Categorical, Numerical - Numerical, Categorical - Categorical)\n",
    "\n",
    "M - Multivariate Analysis\n",
    " ]\n",
    "\n",
    "\n",
    "\n"
   ]
  },
  {
   "cell_type": "markdown",
   "metadata": {
    "id": "O_i_v8NEhb9l"
   },
   "source": [
    "# ***Let's Begin !***"
   ]
  },
  {
   "cell_type": "markdown",
   "metadata": {
    "id": "jiOqkeeBmdWp"
   },
   "source": [
    "### Dataset Loading"
   ]
  },
  {
   "cell_type": "code",
   "execution_count": null,
   "metadata": {
    "id": "M8Vqi-pPk-HR"
   },
   "outputs": [],
   "source": [
    "from google.colab import drive\n",
    "drive.mount('/content/drive')\n",
    "\n",
    "# Import Libraries\n",
    "import pandas as pd # import pandas opration\n",
    "import numpy as np  # import numpy\n",
    "from numpy  import mean\n",
    "\n",
    "\n",
    "\n",
    "import seaborn as sns\n",
    "from skimage.io import imread\n",
    "\n",
    "import matplotlib.pyplot as plt # import matplotlib\n",
    "sns.set()\n",
    "%matplotlib inline\n",
    "\n",
    "import statistics\n",
    "from collections import Counter\n",
    "from wordcloud import WordCloud, ImageColorGenerator\n",
    "sns.set_theme(style=\"ticks\", color_codes=True)\n",
    "\n"
   ]
  },
  {
   "cell_type": "code",
   "execution_count": null,
   "metadata": {
    "id": "4CkvbW_SlZ_R"
   },
   "outputs": [],
   "source": [
    "# Load Dataset\n",
    "\n",
    "file_path =\"/content/Airbnb NYC 2019 (2).csv\"\n",
    "df_air = pd.read_csv(file_path)"
   ]
  },
  {
   "cell_type": "markdown",
   "metadata": {
    "id": "x71ZqKXriCWQ"
   },
   "source": [
    "### Dataset First View"
   ]
  },
  {
   "cell_type": "code",
   "execution_count": null,
   "metadata": {
    "id": "LWNFOSvLl09H"
   },
   "outputs": [],
   "source": [
    "# Dataset First Look\n",
    "df_air = pd.read_csv(file_path)\n",
    "df_air.head(10)"
   ]
  },
  {
   "cell_type": "code",
   "execution_count": null,
   "metadata": {
    "id": "REwazyqrwZnD"
   },
   "outputs": [],
   "source": [
    "df_air.isna().sum()"
   ]
  },
  {
   "cell_type": "markdown",
   "metadata": {
    "id": "7hBIi_osiCS2"
   },
   "source": [
    "### Dataset Rows & Columns count"
   ]
  },
  {
   "cell_type": "code",
   "execution_count": null,
   "metadata": {
    "id": "Kllu7SJgmLij"
   },
   "outputs": [],
   "source": [
    "# Dataset Rows & Columns count\n",
    "# we have to check the data roe and colums\n",
    "df_air.shape"
   ]
  },
  {
   "cell_type": "markdown",
   "metadata": {
    "id": "JlHwYmJAmNHm"
   },
   "source": [
    "### Dataset Information"
   ]
  },
  {
   "cell_type": "code",
   "execution_count": null,
   "metadata": {
    "id": "e9hRXRi6meOf"
   },
   "outputs": [],
   "source": [
    "# Dataset Info\n",
    "### Below are the information of data file####\n",
    "df_air.info()"
   ]
  },
  {
   "cell_type": "markdown",
   "metadata": {
    "id": "35m5QtbWiB9F"
   },
   "source": [
    "#### Duplicate Values"
   ]
  },
  {
   "cell_type": "code",
   "execution_count": null,
   "metadata": {
    "id": "1sLdpKYkmox0"
   },
   "outputs": [],
   "source": [
    "# Dataset Duplicate Value Count\n",
    "# Below entry is use to check duplicate entries.\n",
    "\n",
    "df_air.duplicated()"
   ]
  },
  {
   "cell_type": "code",
   "execution_count": null,
   "metadata": {
    "id": "BlpJIvAQNM1E"
   },
   "outputs": [],
   "source": [
    "###  We can use another method for duplicated count##\n",
    "df_air.duplicated().sum()"
   ]
  },
  {
   "cell_type": "markdown",
   "metadata": {
    "id": "PoPl-ycgm1ru"
   },
   "source": [
    "#### Missing Values/Null Values"
   ]
  },
  {
   "cell_type": "code",
   "execution_count": null,
   "metadata": {
    "id": "GgHWkxvamxVg"
   },
   "outputs": [],
   "source": [
    "# Missing Values/Null Values Count\n",
    "df_air.isnull().sum()"
   ]
  },
  {
   "cell_type": "code",
   "execution_count": null,
   "metadata": {
    "id": "R5Nftw3hQ-Sw"
   },
   "outputs": [],
   "source": [
    "# To check the missing value in name\n",
    "df_air[df_air['name'].isnull()]"
   ]
  },
  {
   "cell_type": "code",
   "execution_count": null,
   "metadata": {
    "id": "NWIprNUtR5gt"
   },
   "outputs": [],
   "source": [
    "# To check the missing host_id in name\n",
    "df_air[df_air['host_name'].isnull()]"
   ]
  },
  {
   "cell_type": "code",
   "execution_count": null,
   "metadata": {
    "id": "3q5wnI3om9sJ"
   },
   "outputs": [],
   "source": [
    "# Visualizing the missing values\n",
    "missing = df_air.isnull().sum()\n",
    "plt.figure(figsize=(15,8))\n",
    "missing.plot.bar()"
   ]
  },
  {
   "cell_type": "markdown",
   "metadata": {
    "id": "_qMI8b68KogL"
   },
   "source": [
    "# What did you know about your dataset?"
   ]
  },
  {
   "cell_type": "markdown",
   "metadata": {
    "id": "iiUO-Sb7K2Vp"
   },
   "source": [
    "The above data is having 48895 rows and 16 coloumn. The data is having a lot of null an showing 0 duplicate values."
   ]
  },
  {
   "cell_type": "markdown",
   "metadata": {
    "id": "nA9Y7ga8ng1Z"
   },
   "source": [
    "## ***2. Understanding Your Variables***"
   ]
  },
  {
   "cell_type": "code",
   "execution_count": null,
   "metadata": {
    "id": "j7xfkqrt5Ag5"
   },
   "outputs": [],
   "source": [
    "# Dataset Columns\n",
    "# here we had check all columns\n",
    "df_air.columns"
   ]
  },
  {
   "cell_type": "code",
   "execution_count": null,
   "metadata": {
    "id": "DnOaZdaE5Q5t"
   },
   "outputs": [],
   "source": [
    "# Dataset Describe\n",
    "# here we had check all Describe\n",
    "df_air.describe()"
   ]
  },
  {
   "cell_type": "markdown",
   "metadata": {
    "id": "PBTbrJXOngz2"
   },
   "source": [
    "### Variables Description "
   ]
  },
  {
   "cell_type": "markdown",
   "metadata": {
    "id": "aJV4KIxSnxay"
   },
   "source": [
    "Answer Here"
   ]
  },
  {
   "cell_type": "code",
   "execution_count": null,
   "metadata": {
    "id": "evZnvKeHVnxP"
   },
   "outputs": [],
   "source": [
    "df_air[df_air['host_name']=='John']"
   ]
  },
  {
   "cell_type": "markdown",
   "metadata": {
    "id": "u3PMJOP6ngxN"
   },
   "source": [
    "### Check Unique Values for each variable."
   ]
  },
  {
   "cell_type": "code",
   "execution_count": null,
   "metadata": {
    "id": "zms12Yq5n-jE"
   },
   "outputs": [],
   "source": [
    "# Check Unique Values for each variable.\n",
    "##\n",
    "df_air['host_id'].nunique()"
   ]
  },
  {
   "cell_type": "code",
   "execution_count": null,
   "metadata": {
    "id": "aAGBTLUCkA_1"
   },
   "outputs": [],
   "source": [
    "df_air['host_name'].nunique()"
   ]
  },
  {
   "cell_type": "markdown",
   "metadata": {
    "id": "dauF4eBmngu3"
   },
   "source": [
    "## 3. ***Data Wrangling***"
   ]
  },
  {
   "cell_type": "markdown",
   "metadata": {
    "id": "bKJF3rekwFvQ"
   },
   "source": [
    "### Data Wrangling Code"
   ]
  },
  {
   "cell_type": "code",
   "execution_count": null,
   "metadata": {
    "id": "wk-9a2fpoLcV"
   },
   "outputs": [],
   "source": [
    "# Write your code to make your dataset analysis ready.\n",
    "# let analysis the data by using the chart\n",
    "df_air.describe()"
   ]
  },
  {
   "cell_type": "markdown",
   "metadata": {
    "id": "MSa1f5Uengrz"
   },
   "source": [
    "### What all manipulations have you done and insights you found?"
   ]
  },
  {
   "cell_type": "code",
   "execution_count": null,
   "metadata": {
    "id": "DdN4dSQ6jqmg"
   },
   "outputs": [],
   "source": [
    "percentage_of_data_having_availbility_0 = round(len(df_air[df_air['availability_365']==0] ['availability_365'])/len(df_air['availability_365'])*100,2)\n",
    "print(f'The Percentage of data having availability as 0 is {percentage_of_data_having_availbility_0}')"
   ]
  },
  {
   "cell_type": "markdown",
   "metadata": {
    "id": "VpG6D-qfNGSB"
   },
   "source": [
    "  So we can clearly notice that availability column is having minimum valuse as well as 25th percentile is 0. So that seem awkward beacuse having availability days 0 for 36% of data is bit shocking, If you have a business of providing  sheltersfor AirBnb your availablity is 0 days that is extreme case and extreme case is obviously shocking when it come 36% of data is having extreme case. But its not practicaly to excactly detect which apartment are having realy availability 0 days, so we will not aalter this column as if we try to alter we can end up manipulating appartment which are really mostly busu(i.e 0 no. days availability)   "
   ]
  },
  {
   "cell_type": "markdown",
   "metadata": {
    "id": "atPTlcBKReCD"
   },
   "source": [
    "we can also clearly see that minimum price is 0, which is surprising as price 0 does'nt make sense to do business"
   ]
  },
  {
   "cell_type": "markdown",
   "metadata": {
    "id": "4zSDHGmHRc8w"
   },
   "source": [
    "## **Let check out the last review wise count of where of where availability 365 is 0**"
   ]
  },
  {
   "cell_type": "code",
   "execution_count": null,
   "metadata": {
    "id": "XJumNEIcjqL5"
   },
   "outputs": [],
   "source": [
    "df_air[df_air['availability_365']==0].groupby(['last_review']).size().sort_values(ascending=False).head(15)"
   ]
  },
  {
   "cell_type": "markdown",
   "metadata": {
    "id": "IMfpKT2nVHQc"
   },
   "source": [
    "## Lets fill these data with appropriate price value(By filling the price with median price for each room type)"
   ]
  },
  {
   "cell_type": "code",
   "execution_count": null,
   "metadata": {
    "id": "FMraoY9Ijp4g"
   },
   "outputs": [],
   "source": [
    "df_air.loc[ (df_air.room_type=='Entire home/apt') & (df_air.price==0),'price']=df_air.loc[(df_air.room_type=='Entire home/apt') & (df_air.price!=0),'price'].median()\n",
    "df_air.loc[ (df_air.room_type=='Private room') & (df_air.price==0),'price']=df_air.loc[(df_air.room_type=='Private room') & (df_air.price!=0),'price'].median()\n",
    "df_air.loc[ (df_air.room_type=='Shared room') & (df_air.price==0),'price']=df_air.loc[(df_air.room_type=='Shared room') & (df_air.price!=0),'price'].median()"
   ]
  },
  {
   "cell_type": "code",
   "execution_count": null,
   "metadata": {
    "id": "yYfoVfsMMZGR"
   },
   "outputs": [],
   "source": [
    "df_air.describe()"
   ]
  },
  {
   "cell_type": "markdown",
   "metadata": {
    "id": "6AJuIznRNOwS"
   },
   "source": [
    "**NOTE: We can notic that we have succesfully updated the price column where we have values as 0,we succesfully  updated the value with respective price value**"
   ]
  },
  {
   "cell_type": "code",
   "execution_count": null,
   "metadata": {
    "id": "y6-WvZP4NQ8K"
   },
   "outputs": [],
   "source": [
    "df_air.fillna({'reviews_per_month':0},inplace=True)"
   ]
  },
  {
   "cell_type": "markdown",
   "metadata": {
    "id": "GF8Ens_Soomf"
   },
   "source": [
    "# ***4. Data Vizualization, Storytelling & Experimenting with charts : Understand the relationships between variables***"
   ]
  },
  {
   "cell_type": "code",
   "execution_count": null,
   "metadata": {
    "id": "OZY5rTUQbpMv"
   },
   "outputs": [],
   "source": [
    "df_air.head()"
   ]
  },
  {
   "cell_type": "markdown",
   "metadata": {
    "id": "iF5ObOgic_7K"
   },
   "source": [
    "**Observations:**\n",
    "•\tTotal 16 columns are present in the dataset.\n",
    "•\ttotal observations are 48895.\n"
   ]
  },
  {
   "cell_type": "code",
   "execution_count": null,
   "metadata": {
    "id": "1yNO1fB9bpCv"
   },
   "outputs": [],
   "source": [
    " df_air.info()"
   ]
  },
  {
   "cell_type": "code",
   "execution_count": null,
   "metadata": {
    "id": "o-tcrjbKiZGQ"
   },
   "outputs": [],
   "source": [
    "#name column\n",
    "df_air.name"
   ]
  },
  {
   "cell_type": "code",
   "execution_count": null,
   "metadata": {
    "id": "n_dhjOMaiYx0"
   },
   "outputs": [],
   "source": [
    "df_air[df_air['name'].isnull()].head()"
   ]
  },
  {
   "cell_type": "markdown",
   "metadata": {
    "id": "ouJhC3UUip6h"
   },
   "source": [
    "**Observation:**\n",
    "1.\tThis columns is having names describing the property which is host is trying to give on rent,so the nature of this names is short and consise and this is required as this can draw an attention of customer.\n",
    "2.\tThe question arises that how to fill the missing values in this columns.we will explore further dataset and try to find out better optiions to fill the missing values.\n",
    "3.\tThis Feature can be important in model building like Recommender systems.\n",
    "4.\tOf course there is no point in removing these cells although they are limited in numbers.\n"
   ]
  },
  {
   "cell_type": "code",
   "execution_count": null,
   "metadata": {
    "id": "_AGpvK9liYez"
   },
   "outputs": [],
   "source": [
    "  df_air.room_type"
   ]
  },
  {
   "cell_type": "markdown",
   "metadata": {
    "id": "HS7V8JQNi40Y"
   },
   "source": [
    "**Observations**\n",
    "1.\troom_type column is not having any null values,and also we can try to use this values in place of NAN values in name column this can solve our purpose and we can atlest put front what is the type of room!\n",
    "2.\tyes, we will replace the nan values with the values which are in room_type column.\n"
   ]
  },
  {
   "cell_type": "code",
   "execution_count": null,
   "metadata": {
    "id": "aSAxNGFji1K6"
   },
   "outputs": [],
   "source": [
    "#This code snippit will replce the nan values.\n",
    "#fillna() method will do the job...\n",
    "df_air.name.fillna(df_air.room_type, inplace=True)\n",
    "#check the changes.\n",
    "df_air.isnull().sum()"
   ]
  },
  {
   "cell_type": "markdown",
   "metadata": {
    "id": "jFRszrLBjVC-"
   },
   "source": [
    "**Observations:**\n",
    "1.\tWe have replaced the nan values with corresponding room_type values.\n",
    "2.\tThis should solve our purpose.\n"
   ]
  },
  {
   "cell_type": "code",
   "execution_count": null,
   "metadata": {
    "id": "pJ-CTzPyiGwB"
   },
   "outputs": [],
   "source": [
    "  #list of words.\n",
    "  name_list = list(df_air.name.values)\n",
    "  words = []\n",
    "  for i in name_list:\n",
    "    words+=i.split()\n",
    "  #let's see top 50 used words .\n",
    "  _top_50_words=Counter(words).most_common()\n",
    "  _top_50_words=_top_50_words[0:50]\n",
    "  #dataFrame for top 50 words.\n",
    "  top_50_words = pd.DataFrame(_top_50_words,columns = ['words','frequency'])\n",
    "  # visualization\n",
    "  plt.figure(figsize=(20,5))\n",
    "  ax_1= sns.barplot(x='words',y='frequency',data = top_50_words)\n",
    "  ax_1.set_title('top 50 words')\n",
    "  ax_1.set_ylabel('frequency of words')\n",
    "  ax_1.set_xlabel('Words')\n",
    "  ax_1.set_xticklabels(ax_1.get_xticklabels(), rotation=60)\n",
    "\n"
   ]
  },
  {
   "cell_type": "markdown",
   "metadata": {
    "id": "ojI_7fcfqdYi"
   },
   "source": [
    "**Observations:**\n",
    "\n",
    "1) there are top 50 words use in data fram"
   ]
  },
  {
   "cell_type": "code",
   "execution_count": null,
   "metadata": {
    "id": "I9hYE2lIhveC"
   },
   "outputs": [],
   "source": [
    "neigh_unique_values = df_air['neighbourhood'].value_counts()\n",
    "neigh_unique_values"
   ]
  },
  {
   "cell_type": "code",
   "execution_count": null,
   "metadata": {
    "id": "7zyqJiBHbo7r"
   },
   "outputs": [],
   "source": [
    "#.most_common() Return a list of the n most common elements and their counts from the most common to the least.\n",
    "top_50_=Counter( df_air['neighbourhood']).most_common()\n",
    "top_50_=top_50_[0:50]\n",
    "top_50_[:20]\n",
    "\n",
    "[('Williamsburg', 3920),\n",
    " ('Bedford-Stuyvesant', 3714),\n",
    " ('Harlem', 2658),\n",
    " ('Bushwick', 2465),\n",
    " ('Upper West Side', 1971),\n",
    " (\"Hell's Kitchen\", 1958),\n",
    " ('East Village', 1853),\n",
    " ('Upper East Side', 1798),\n",
    " ('Crown Heights', 1564),\n",
    " ('Midtown', 1545),\n",
    " ('East Harlem', 1117),\n",
    " ('Greenpoint', 1115),\n",
    " ('Chelsea', 1113),\n",
    " ('Lower East Side', 911),\n",
    " ('Astoria', 900),\n",
    " ('Washington Heights', 899),\n",
    " ('West Village', 768),\n",
    " ('Financial District', 744),\n",
    " ('Flatbush', 621),\n",
    " ('Clinton Hill', 572)]\n",
    "\n",
    "#count_plot\n",
    "plt.figure(figsize=(20,5))\n",
    "ax_4 = sns.barplot(x='neighbourhood',y='count',data = pd.DataFrame(top_50_,columns=['neighbourhood','count'][:20]))\n",
    "ax_4.set_title('Count of Neighbourhood')\n",
    "ax_4.set_ylabel('Frequency')\n",
    "ax_4.set_xlabel('Neighbourhood')\n",
    "ax_4.set_xticklabels(ax_4.get_xticklabels(), rotation=80);\n",
    "plt.show()\n"
   ]
  },
  {
   "cell_type": "markdown",
   "metadata": {
    "id": "K5QZ13OEpz2H"
   },
   "source": [
    "**Observations:**\n",
    "1.\tThe above plot shows us some of the top Neighbours towns we can say.\n",
    "2.\tPeople like to stay at these towns more offent."
   ]
  },
  {
   "cell_type": "code",
   "execution_count": null,
   "metadata": {
    "id": "UJouMG8Tbo0j"
   },
   "outputs": [],
   "source": [
    "df_air['host_name'].nunique()"
   ]
  },
  {
   "cell_type": "markdown",
   "metadata": {
    "id": "m6LAtuEcjwLH"
   },
   "source": [
    "**Observations:**\n",
    "1.\thost_name this column is defining the name of host(owner).\n",
    "2.\tThere are 11452 unique hosts/owners we can use this featue directly in model building just by encoding it.response encoding will be usefull for this feature.\n",
    "3.\twe can take nan value as one data point for model building.\n"
   ]
  },
  {
   "cell_type": "code",
   "execution_count": null,
   "metadata": {
    "id": "G7avxFmUjobo"
   },
   "outputs": [],
   "source": [
    "df_air['neighbourhood_group']"
   ]
  },
  {
   "cell_type": "code",
   "execution_count": null,
   "metadata": {
    "id": "a6I6q7ZFjoVB"
   },
   "outputs": [],
   "source": [
    "df_air['neighbourhood_group'].unique()\n",
    "\n",
    "#count_plot\n",
    "plt.figure(figsize=(10,5))\n",
    "ax_3 = sns.countplot(x='neighbourhood_group',data = df_air)\n",
    "ax_3.set_title('Count of neighbourhood_group')\n",
    "ax_3.set_ylabel('frequency')\n",
    "ax_3.set_xlabel('neighbourhood_group')  \n",
    "plt.show()\n"
   ]
  },
  {
   "cell_type": "markdown",
   "metadata": {
    "id": "vENaGBmokKHN"
   },
   "source": [
    "**Observations:**\n",
    "1.\tBrooklyn and Manhattan have the highest hotel/room bookings.\n"
   ]
  },
  {
   "cell_type": "code",
   "execution_count": null,
   "metadata": {
    "id": "7v_ESjsspbW7"
   },
   "outputs": [],
   "source": [
    "# Chart - 1 visualization code\n",
    "neigh_unique_values = df_air['neighbourhood'].value_counts()\n",
    "neigh_unique_values"
   ]
  },
  {
   "cell_type": "markdown",
   "metadata": {
    "id": "VFDTIROkkjfw"
   },
   "source": [
    "**Observations:**\n",
    "1.\tThere are 221 unique neighbor"
   ]
  },
  {
   "cell_type": "code",
   "execution_count": null,
   "metadata": {
    "id": "ku-EHLXplDfx"
   },
   "outputs": [],
   "source": [
    "df_air[['latitude','longitude']]"
   ]
  },
  {
   "cell_type": "markdown",
   "metadata": {
    "id": "yJNJUHEylKum"
   },
   "source": [
    "**Observation:**\n",
    "1.\twe can see the exact locations from this columns.\n"
   ]
  },
  {
   "cell_type": "markdown",
   "metadata": {
    "id": "KdxWyG36-LYV"
   },
   "source": [
    "**1) Which hosts are having heighest number of appartments ?**"
   ]
  },
  {
   "cell_type": "code",
   "execution_count": null,
   "metadata": {
    "id": "MQSJQGnNS24i"
   },
   "outputs": [],
   "source": [
    "## Which Host are have heighest numer of appartment\n",
    "### In this i will demonstrate that why we need to go   with host_id rather then host_name\n",
    "\n",
    "df_air['host_name'].value_counts()\n"
   ]
  },
  {
   "cell_type": "code",
   "execution_count": null,
   "metadata": {
    "id": "wYn3KuBzUTFv"
   },
   "outputs": [],
   "source": [
    "df_air['host_id'].value_counts()"
   ]
  },
  {
   "cell_type": "markdown",
   "metadata": {
    "id": "ODyO0t3AUhnk"
   },
   "source": [
    "  From this we can see that host name michael its appearing 417 time in the host_name column, so this might imply that michael is having heighest number of room,but from the host_id column its showing heighest appearance of any host_id  is 327, so this clearly implies that there can be multiple may have same name thats why we are we are getting diffrent heighest apperance in host_name as campared to host_id.\n",
    "\n",
    "  Lets check which host_name is actually having heighest number of apperments "
   ]
  },
  {
   "cell_type": "code",
   "execution_count": null,
   "metadata": {
    "id": "hbWE6vWdMVl_"
   },
   "outputs": [],
   "source": [
    "df_air[df_air['host_id']==219517861]['host_name'].unique()"
   ]
  },
  {
   "cell_type": "code",
   "execution_count": null,
   "metadata": {
    "id": "3-I3euu7MaLO"
   },
   "outputs": [],
   "source": [
    "## So sonder (NYC) is having maximum number of rooms for the guest, for Airbnb he mignt be very important person.\n",
    "\n",
    "df_sonder= df_air[df_air['host_name']=='Sonder (NYC)']\n",
    "df_sonder[['host_name','neighbourhood_group','neighbourhood','latitude','longitude']].head(6)\n"
   ]
  },
  {
   "cell_type": "markdown",
   "metadata": {
    "id": "Xx0mfAdETVZo"
   },
   "source": [
    "Sonder(NYC) is having multiple appermen in same building in diffrent diffrent neighbourdhood"
   ]
  },
  {
   "cell_type": "markdown",
   "metadata": {
    "id": "yja6MqFeT3Xw"
   },
   "source": [
    " **2)Which are the top 10 neighbourdhood which are having maximum number of appertment for Airbnb?**"
   ]
  },
  {
   "cell_type": "code",
   "execution_count": null,
   "metadata": {
    "id": "yoiKnSnRTLGk"
   },
   "outputs": [],
   "source": [
    "df_air['neighbourhood'].value_counts().head(10)"
   ]
  },
  {
   "cell_type": "code",
   "execution_count": null,
   "metadata": {
    "id": "RvLgY5wZ_0Nf"
   },
   "outputs": [],
   "source": [
    "# plotting top neighbourhood which are having maximum number of appartments for airbnb in the respective neighbourhood.\n",
    "pd.value_counts(df_air['neighbourhood'])[:10].plot.bar()"
   ]
  },
  {
   "cell_type": "code",
   "execution_count": null,
   "metadata": {
    "id": "is_U3XGYBBQL"
   },
   "outputs": [],
   "source": [
    "df_air['neighbourhood_group'].value_counts()"
   ]
  },
  {
   "cell_type": "code",
   "execution_count": null,
   "metadata": {
    "id": "0Xk60_SzBdU0"
   },
   "outputs": [],
   "source": [
    "pd.value_counts(df_air['neighbourhood_group']).plot.bar()"
   ]
  },
  {
   "cell_type": "markdown",
   "metadata": {
    "id": "JumnzRf5CTAe"
   },
   "source": [
    " **3) What are the neighbourhood in each group which are having maximum price in thier respective neighbourhood_group**"
   ]
  },
  {
   "cell_type": "code",
   "execution_count": null,
   "metadata": {
    "id": "k1_ydwZ-CzP1"
   },
   "outputs": [],
   "source": [
    "#Top 3 neighbourhood in thier respective neighbourhood group which are having maximum prices.\n",
    "\n",
    "df_Manhattan=df_air[df_air['neighbourhood_group']=='Manhattan']\n",
    "df_Brooklyn=df_air[df_air['neighbourhood_group']=='Brooklyn']\n",
    "df_Queens=df_air[df_air['neighbourhood_group']=='Queens']\n",
    "df_Bronx=df_air[df_air['neighbourhood_group']=='Bronx']\n",
    "df_Staten=df_air[df_air['neighbourhood_group']=='Staten Island']\n",
    "\n",
    "# top 3  neighbourhood in Manhattan which are having maximum prices\n",
    "print('Top 3 neighbourhood in manhattan which are having maximum price')\n",
    "df_Manhattan.groupby(['neighbourhood'])['price'].max().sort_values(ascending=False).reset_index().head(3)\n"
   ]
  },
  {
   "cell_type": "code",
   "execution_count": null,
   "metadata": {
    "id": "YQpFDz4UCzEv"
   },
   "outputs": [],
   "source": [
    "# top 3  neighbourhood in Manhattan which are having maximum prices\n",
    "print('Top 3 neighbourhood in manhattan which are having maximum price')\n",
    "df_Brooklyn.groupby(['neighbourhood'])['price'].max().sort_values(ascending=False).reset_index().head(3)"
   ]
  },
  {
   "cell_type": "code",
   "execution_count": null,
   "metadata": {
    "id": "rVNhps4NCy5C"
   },
   "outputs": [],
   "source": [
    "# top 3  neighbourhood in Manhattan which are having maximum prices\n",
    "print('Top 3 neighbourhood in manhattan which are having maximum price')\n",
    "df_Queens.groupby(['neighbourhood'])['price'].max().sort_values(ascending=False).reset_index().head(3)"
   ]
  },
  {
   "cell_type": "code",
   "execution_count": null,
   "metadata": {
    "id": "XsdURCjdCyxi"
   },
   "outputs": [],
   "source": [
    "# top 3  neighbourhood in Manhattan which are having maximum prices\n",
    "print('Top 3 neighbourhood in manhattan which are having maximum price')\n",
    "df_Bronx.groupby(['neighbourhood'])['price'].max().sort_values(ascending=False).reset_index().head(3)"
   ]
  },
  {
   "cell_type": "code",
   "execution_count": null,
   "metadata": {
    "id": "zvBhSk4NCyc7"
   },
   "outputs": [],
   "source": [
    "# top 3  neighbourhood in Manhattan which are having maximum prices\n",
    "print('Top 3 neighbourhood in manhattan which are having maximum price')\n",
    "df_Staten.groupby(['neighbourhood'])['price'].max().sort_values(ascending=False).reset_index().head(3)"
   ]
  },
  {
   "cell_type": "markdown",
   "metadata": {
    "id": "RBuAx-auLwPs"
   },
   "source": [
    " **4) How neidhbourhood is realed with reviews?**"
   ]
  },
  {
   "cell_type": "code",
   "execution_count": null,
   "metadata": {
    "id": "MB1ostSyLsLu"
   },
   "outputs": [],
   "source": [
    "##Top 5 Neighbourhood is having heighest review per month\n",
    "df_air.groupby(['neighbourhood'])['reviews_per_month'].max().sort_values(ascending=False).reset_index().head(5)"
   ]
  },
  {
   "cell_type": "markdown",
   "metadata": {
    "id": "vn_6YfKwSe8A"
   },
   "source": [
    "**Top 5 Neighbourhood is having heighest number of views**"
   ]
  },
  {
   "cell_type": "code",
   "execution_count": null,
   "metadata": {
    "id": "iSb3Ca_eLsB1"
   },
   "outputs": [],
   "source": [
    "df_air.groupby(['neighbourhood'])['number_of_reviews'].sum().sort_values(ascending=False).reset_index().head(5)"
   ]
  },
  {
   "cell_type": "code",
   "execution_count": null,
   "metadata": {
    "id": "sgeFknlBYnYo"
   },
   "outputs": [],
   "source": [
    "df_air[df_air['name'].isnull()].head()"
   ]
  },
  {
   "cell_type": "markdown",
   "metadata": {
    "id": "BbhmoKxBY-gF"
   },
   "source": [
    "**Observation:**\n",
    "1.\tThis columns is having names describing the property which is host is trying to give on rent,so the nature of this names is short and consise and this is required as this can draw an attention of customer.\n",
    "2.\tThe question arises that how to fill the missing values in this columns.we will explore further dataset and try to find out better optiions to fill the missing values.\n",
    "3.\tThis Feature can be important in model building like Recommender systems.\n",
    "4.\tOf course there is no point in removing these cells although they are limited in numbers.\n"
   ]
  },
  {
   "cell_type": "markdown",
   "metadata": {
    "id": "j6AscU73T0jm"
   },
   "source": [
    " **5) What can we learn from predictions?**"
   ]
  },
  {
   "cell_type": "code",
   "execution_count": null,
   "metadata": {
    "id": "UeTQfo4AlSNn"
   },
   "outputs": [],
   "source": [
    "#simple scatterplot:\n",
    "\n",
    "plt.figure(figsize=(10,6))\n",
    "ax_5 = sns.scatterplot(df_air.longitude,df_air.latitude,hue=df_air.neighbourhood_group)\n",
    "ax_5.set_title('Density of rooms')\n",
    "ax_5.set_ylabel('latitude')\n",
    "ax_5.set_xlabel('longitude')\n",
    "plt.show()"
   ]
  },
  {
   "cell_type": "markdown",
   "metadata": {
    "id": "NHnzFE_YrFlB"
   },
   "source": [
    "**Observations:**\n",
    "\n",
    "As we see neighbourhood group location"
   ]
  },
  {
   "cell_type": "code",
   "execution_count": null,
   "metadata": {
    "id": "2_T1o3WDlSGi"
   },
   "outputs": [],
   "source": [
    "# Column_no_6 room_type:\n",
    "df_air[['room_type']].nunique()\n",
    "\n",
    "#count_plot'\n",
    "plt.figure(figsize=(10,5))\n",
    "sns_6 = sns.countplot(x='room_type',data = df_air)\n",
    "sns_6.set_title('frequency_plot')\n",
    "sns_6.set_ylabel('frequency')\n",
    "sns_6.set_xlabel('room_type')\n",
    "\n",
    "plt.show()"
   ]
  },
  {
   "cell_type": "markdown",
   "metadata": {
    "id": "STy4rPxbl3oW"
   },
   "source": [
    "**Observations**\n",
    "1.\tThere are three types of rooms\n",
    "2.\tNamely:\n",
    "1.Private room\n",
    "2.Entire home/apt room_type\n",
    "3.Shared room.\n",
    "3.People mostly prefered to take whole apartment on rent followed by Private room. 4. very few people prefered to have shared rooms.\n",
    "We will try to catogorise the 'price'like cheep,affordable and expensive and then analyse the 'price' for 'room_type' as per it.\n"
   ]
  },
  {
   "cell_type": "code",
   "execution_count": null,
   "metadata": {
    "id": "flTIIFznVhqa"
   },
   "outputs": [],
   "source": [
    "plt.figure(figsize=(15,8))\n",
    "sns.scatterplot(x=df_air['longitude'],y=df_air['latitude'], hue=df_air['room_type'])"
   ]
  },
  {
   "cell_type": "markdown",
   "metadata": {
    "id": "hvlTgAZG_r1R"
   },
   "source": [
    " **6) What is the distribution of the room type and its distribution over the location ?**"
   ]
  },
  {
   "cell_type": "code",
   "execution_count": null,
   "metadata": {
    "id": "RB3fULoZAMge"
   },
   "outputs": [],
   "source": [
    "plt.figure(figsize=(8,5))\n",
    "df_air['room_type'].value_counts().plot(kind='bar',color=['r','b','y'])"
   ]
  },
  {
   "cell_type": "markdown",
   "metadata": {
    "id": "kpOiPgJWA8f2"
   },
   "source": [
    "**Observation**\n",
    "\n",
    "So we can notice the following \n",
    "\n",
    "\n",
    "1.   That maximum number of room are enter home/apartment and private room there are only few shared rooms.\n",
    "2.   So mostly host prefer to give entire home/apartment and private room rather than share rooms\n",
    "\n",
    "\n"
   ]
  },
  {
   "cell_type": "markdown",
   "metadata": {
    "id": "WDAgqLmZXPBc"
   },
   "source": [
    " **7) How dose the room type is distributed over neighbourhood group are the ratios of respective room type more or less same over each neighbourhood group?**"
   ]
  },
  {
   "cell_type": "code",
   "execution_count": null,
   "metadata": {
    "id": "H0ndb2FYX7ZI"
   },
   "outputs": [],
   "source": [
    "  plt.figure(figsize=(10,5))\n",
    "  N=5 #number of bars in each category\n",
    "  ind= np.arange(3)\n",
    "  width=0.3\n",
    "\n",
    "  # storing the values of all values count by the room type for specific neighbourhood group\n",
    "\n",
    "bronx_values=df_Bronx['room_type'].value_counts().values\n",
    "brooklyn_values=df_Brooklyn['room_type'].value_counts().values\n",
    "manhattan_values=df_Manhattan['room_type'].value_counts().values\n",
    "queen_values=df_Queens['room_type'].value_counts().values\n",
    "staten_values=df_Staten['room_type'].value_counts().values\n",
    "# plotting the values\n",
    "plt.bar(ind,bronx_values,0.2,label='Bronx')\n",
    "plt.bar(ind+0.1,brooklyn_values,0.2,label='Brooklyn')\n",
    "plt.bar(ind+0.2,manhattan_values,0.2,label='Manhattan')\n",
    "plt.bar(ind+0.3,queen_values,0.2,label='Queens')\n",
    "plt.bar(ind+0.4,staten_values,0.2,label='Staten Island')\n",
    "plt.xlabel('Room type')\n",
    "plt.ylabel('Neighbourhood group')\n",
    "plt.title('Distribution of Room type over the different Neighbourhood Group')\n",
    "plt.xticks(ind + width / 2, ('Entire Room', 'Private', 'Shared'))\n",
    "plt.legend(loc='best')\n",
    "plt.show()\n",
    "\n",
    "\n"
   ]
  },
  {
   "cell_type": "code",
   "execution_count": null,
   "metadata": {
    "id": "xmPz5FYDX7Rp"
   },
   "outputs": [],
   "source": [
    "#It seem more or less same ratio in every neighbouurhood"
   ]
  },
  {
   "cell_type": "markdown",
   "metadata": {
    "id": "Y6ovGIQpbdEj"
   },
   "source": [
    " **8) How the price column is distributed over room_type and are there any surprising iteam in price column?**"
   ]
  },
  {
   "cell_type": "code",
   "execution_count": null,
   "metadata": {
    "id": "tztnf2DrX7A1"
   },
   "outputs": [],
   "source": [
    "# From the previous expoloration we get to know that price coloumn is having many value as 0 as it doesn't make the sense.\n",
    "#   So will try to get rid of those instances for analysis of price column.\n",
    "df_price = df_air[df_air['price']!=0].copy()\n",
    "\n",
    "sns.set_theme(style='whitegrid')\n",
    "sns.boxplot(y='room_type',x='price',hue='room_type',palette='Set3',linewidth=1.5,fliersize=1.5,data=df_price)\n"
   ]
  },
  {
   "cell_type": "markdown",
   "metadata": {
    "id": "kSQzdLf1tIq2"
   },
   "source": [
    "**Observations**\n",
    "\n",
    "We can notice that there are many outliers for price in each of the room type category, so lets just why there is so high price or what else we can conclude for host have highest price for the rooms"
   ]
  },
  {
   "cell_type": "code",
   "execution_count": null,
   "metadata": {
    "id": "uWcve1WLngRF"
   },
   "outputs": [],
   "source": [
    "# let check our the who is having highest price of all. \n",
    "# and we will check its   rating, minimum night,availability_365 and last reviews in order jude.\n",
    "\n",
    "df_air[df_air['price']==df_air['price'].max()][['host_name','reviews_per_month','last_review','availability_365','price','neighbourhood_group']]"
   ]
  },
  {
   "cell_type": "markdown",
   "metadata": {
    "id": "LZi59fsZ03i3"
   },
   "source": [
    "**Observations**\n",
    "\n",
    "clearly if i would have working in Airbnb i would have suggested the following\n",
    "\n",
    "\n",
    "1.   Kathrine and Erin have price so high and having no availability then what  is the benifit of keeping too high price.\n",
    "2.   The last review is also 2-3 years back.Which is also bad.\n",
    "3.  The review may be low as there may be very few people who is staying in kathrine, Erin and jelena apartment so might have less reviews\n",
    "per month\n",
    "4.  I would have suggested to keep moderate(average) price so that more people would visit and stay in her appartment , it would also\n",
    "increase her reviews per month\n",
    "\n"
   ]
  },
  {
   "cell_type": "code",
   "execution_count": null,
   "metadata": {
    "id": "0oPEG5PElR-9"
   },
   "outputs": [],
   "source": [
    "df_air[['price']].describe()"
   ]
  },
  {
   "cell_type": "code",
   "execution_count": null,
   "metadata": {
    "id": "-dYRG7eglR1v"
   },
   "outputs": [],
   "source": [
    "#function to catogory the types of rooms.\n",
    "def price_catagory(price):\n",
    "  if price<=80:\n",
    "    return 'cheep'\n",
    "  elif price>=80 and price<=500:\n",
    "    return 'affordable'\n",
    "  else:\n",
    "    return 'Expensive'\n",
    "\n",
    "plt.figure(figsize=(10,5))\n",
    "ax_7 = sns.countplot(x=df_air['price'].apply(price_catagory))\n",
    "ax_7.set_title('Count Plot')\n",
    "ax_7.set_xlabel('Catogories of rooms')\n",
    "ax_7.set_ylabel(\"Count\")\n",
    "plt.show()"
   ]
  },
  {
   "cell_type": "markdown",
   "metadata": {
    "id": "bUWbFlIDmM46"
   },
   "source": [
    "**Observations**\n",
    "1.\tThere are three types of rooms\n",
    "2.\tNamely:\n",
    "   1.Private room\n",
    "   2.Entire home/apt room_type\n",
    "   3.Shared room.\n",
    "3.People mostly prefered to take whole apartment on rent followed by Private room. 4. very few people prefered to have shared rooms.\n",
    "We will try to catogorise the 'price'like cheep,affordable and expensive and then analyse the 'price' for 'room_type' as per it.\n"
   ]
  },
  {
   "cell_type": "code",
   "execution_count": null,
   "metadata": {
    "id": "qt-K8IsulRuW"
   },
   "outputs": [],
   "source": [
    "df_air[['price']].describe()"
   ]
  },
  {
   "cell_type": "code",
   "execution_count": null,
   "metadata": {
    "id": "zg_2wO9RKcma"
   },
   "outputs": [],
   "source": [
    "# Function to catogory the type of rooms.\n",
    "def price_catagory(price):\n",
    "  if price<=80:\n",
    "          return \"cheep\"\n",
    "  elif price>=80 and price<=500:\n",
    "          return 'affordable'\n",
    "  else:\n",
    "          return 'Expensive'\n",
    "\n",
    "plt.figure(figsize=(10,5))\n",
    "ax_7 = sns.countplot(x=df_air['price'].apply(price_catagory))\n",
    "ax_7.set_title('Rate Of Room')\n",
    "ax_7.set_xlabel('catogories of rooms')\n",
    "ax_7.set_ylabel('count')\n",
    "plt.show()\n",
    "      "
   ]
  },
  {
   "cell_type": "markdown",
   "metadata": {
    "id": "3iKIZOE-QPJ-"
   },
   "source": [
    "**Observations**\n",
    "\n",
    "\n",
    "1.   We have considered to devide the whole price range into three catogories\n",
    "2. cheep(price range below or equal to 80) ***B.Affordable(forprice range 80 to 500)***\n",
    "3. Expensive(for price more then 500$)so its look like people having more intrest in having \"affordable\" rooms/appartments rathre then having cheep and expensive rooms .\n",
    "\n"
   ]
  },
  {
   "cell_type": "markdown",
   "metadata": {
    "id": "4V4i5BRg3L1T"
   },
   "source": [
    " **9) Which are the top 5 host that have obatained heighest no.of review?**"
   ]
  },
  {
   "cell_type": "code",
   "execution_count": null,
   "metadata": {
    "id": "ulXa3DG-4IYo"
   },
   "outputs": [],
   "source": [
    "host_highest_df = df_air.groupby(['host_id','host_name'],as_index=False)['number_of_reviews'].sum().sort_values(['number_of_reviews'],ascending=False)\n",
    "host_highest_df\n"
   ]
  },
  {
   "cell_type": "markdown",
   "metadata": {
    "id": "RyOFuQ04Ikin"
   },
   "source": [
    "**10) What is the average preferred price by customers according to the neighbourhood group for each category of room type ?**"
   ]
  },
  {
   "cell_type": "code",
   "execution_count": null,
   "metadata": {
    "id": "P_pdmWPCJJTm"
   },
   "outputs": [],
   "source": [
    "#applying groupby over neighbourhood group and room type\n",
    "# That applying meanof price and unstacking for clear visualization\n",
    "\n",
    "avg_price_df = df_air.groupby(['neighbourhood_group','room_type'])['price'].mean().unstack()\n",
    "avg_price_df  "
   ]
  },
  {
   "cell_type": "code",
   "execution_count": null,
   "metadata": {
    "id": "8t-_Qqo7JIzg"
   },
   "outputs": [],
   "source": [
    "avg_price_df.plot.bar(figsize=(15,8),ylabel='Average Price calculation')"
   ]
  },
  {
   "cell_type": "markdown",
   "metadata": {
    "id": "IiyImeJbLSay"
   },
   "source": [
    "**Observations**\n",
    "\n",
    "**As we can see that manhattan is most costly and bronx is cheap for each room type**\n",
    "\n",
    "**But I think we can make it more useful for buissness implimentation if we do some analysis on successfull hosts\n",
    "according to the heighest no of reviews so that we can suggest this price to our host for good buisnes.**"
   ]
  },
  {
   "cell_type": "markdown",
   "metadata": {
    "id": "fCju3ReFId4y"
   },
   "source": [
    "**11) Case Study**"
   ]
  },
  {
   "cell_type": "code",
   "execution_count": null,
   "metadata": {
    "id": "trkRCr6BnON4"
   },
   "outputs": [],
   "source": [
    "df_air[['minimum_nights']].value_counts()"
   ]
  },
  {
   "cell_type": "code",
   "execution_count": null,
   "metadata": {
    "id": "OM3c8ESMnOBj"
   },
   "outputs": [],
   "source": [
    "df_air[['minimum_nights']].describe()"
   ]
  },
  {
   "cell_type": "code",
   "execution_count": null,
   "metadata": {
    "id": "AQwgOwDRnN5k"
   },
   "outputs": [],
   "source": [
    "ax = sns.distplot(df_air.minimum_nights)\n",
    "plt.title('Minimum no. of nights distribution')\n",
    "plt.show()\n"
   ]
  },
  {
   "cell_type": "markdown",
   "metadata": {
    "id": "3tzTkIoYnfdN"
   },
   "source": [
    "\n",
    "**Observations** \n",
    "              \n",
    "1.\tAverage booking is around 7 nights.\n",
    "2.\tminimum booking is for 1 night.\n",
    "3.\tmax booking is for more then a year or we can say for few years.\n"
   ]
  },
  {
   "cell_type": "code",
   "execution_count": null,
   "metadata": {
    "id": "uaQY3dcjnNy8"
   },
   "outputs": [],
   "source": [
    "from scipy.stats import boxcox\n",
    "# power transform\n",
    "data_box_cox_transform = boxcox(df_air.minimum_nights)\n",
    "#lambda=0 it means log transform by defination of box-cox transform.\n",
    "\n",
    "data_box_cox_transform\n"
   ]
  },
  {
   "cell_type": "code",
   "execution_count": null,
   "metadata": {
    "id": "8QyVolaUnNrb"
   },
   "outputs": [],
   "source": [
    "from time import thread_time\n",
    "from matplotlib import text\n",
    "from pyparsing.helpers import string \n",
    "sns.set_theme();  np.random.seed(0)\n",
    "plt.figure(figsize=(10,5))\n",
    "ax = sns.displot(data_box_cox_transform)\n",
    "plt.title ('minmum no.of nights distribution')\n",
    "\n",
    "text={0.5,1.0,'minimum no.of night distribution'}\n"
   ]
  },
  {
   "cell_type": "markdown",
   "metadata": {
    "id": "jSyamjrKoJU7"
   },
   "source": [
    "**Observations:**\n",
    "1.\tit's very clear that the data is right skwed.\n"
   ]
  },
  {
   "cell_type": "code",
   "execution_count": null,
   "metadata": {
    "id": "rXm404djn2oz"
   },
   "outputs": [],
   "source": [
    "from nltk.draw.util import Text\n",
    "log_transfrom = np.log(df_air['minimum_nights'])\n",
    "\n",
    "ax = sns.distplot(log_transfrom)\n",
    "plt.title('Minimum no.of nights distribution')\n",
    "Text={0.5, 1.0, 'Minimum no.of nights distribution'}\n"
   ]
  },
  {
   "cell_type": "markdown",
   "metadata": {
    "id": "gZHzSXBOoWhQ"
   },
   "source": [
    "**Observations**\n",
    "1.\tThis plots shows that majority of room booking is one for 1 to 4 days.\n",
    "2.\tBox-Cox transformed plot strictly shows that the majority of booking lies between 0 to 3 days.we have set the lambda parameter not equal to zero so it by defination of bax-cox transform selected the best value of lambda.\n"
   ]
  },
  {
   "cell_type": "code",
   "execution_count": null,
   "metadata": {
    "id": "DSWl_wODTiR_"
   },
   "outputs": [],
   "source": [
    "\n",
    "df_air[['number_of_reviews']].value_counts()"
   ]
  },
  {
   "cell_type": "code",
   "execution_count": null,
   "metadata": {
    "id": "nwyfX36qTh7m"
   },
   "outputs": [],
   "source": [
    "df_air[['number_of_reviews']].describe()"
   ]
  },
  {
   "cell_type": "code",
   "execution_count": null,
   "metadata": {
    "id": "FwGoGG8f2hTh"
   },
   "outputs": [],
   "source": [
    "plt.figure(figsize=(10,5))\n",
    "ax = sns.distplot(x=df_air[\"number_of_reviews\"])\n",
    "plt.title('number_of_reviews')\n"
   ]
  },
  {
   "cell_type": "code",
   "execution_count": null,
   "metadata": {
    "id": "fcwAqTtpQ3Gg"
   },
   "outputs": [],
   "source": [
    "#the distribution tells it has positive skew\n",
    "# also the distribution doesn't deviate much form normal distribution.\n",
    "# skewness and kurtosis\n",
    "\n",
    "print('Skewness: %f' % df_air['price'].skew())\n",
    "print('kurtosis: %f' % df_air['price'].kurt())"
   ]
  },
  {
   "cell_type": "markdown",
   "metadata": {
    "id": "vuiwAoIUosjO"
   },
   "source": [
    "**Observations**\n",
    "\n",
    "1. look the skew and kurtosis come out very large.Since the skewness has value >1 it is highly skewed.\n",
    "2. Also kurtosis look high as well which indicates presence of good amount of outliers,We will look later into that when we handle outliers!!"
   ]
  },
  {
   "cell_type": "code",
   "execution_count": null,
   "metadata": {
    "id": "LdgNYU4VryGV"
   },
   "outputs": [],
   "source": [
    "df_air[['availability_365']].value_counts()"
   ]
  },
  {
   "cell_type": "code",
   "execution_count": null,
   "metadata": {
    "id": "-Rt8rHGnrxkj"
   },
   "outputs": [],
   "source": [
    "ax= sns.scatterplot(data=df_air,x='availability_365',y='price')\n",
    "plt.title(\"Scatterplot_availability_365\")\n",
    "\n",
    "text={0.5, 1.0,'Scatterplot_availability_365'}\n"
   ]
  },
  {
   "cell_type": "markdown",
   "metadata": {
    "id": "H3OkZprDwFoX"
   },
   "source": [
    "**Observation**\n",
    "\n",
    "1.   From above plot we can see that most of the available rooms are in the prose range of  0 to 2000\n",
    "2.   Very few are available for price above 2000$, this is quite oblivious that are very few peoples who prefer to have expensive rooms.\n",
    "\n"
   ]
  },
  {
   "cell_type": "code",
   "execution_count": null,
   "metadata": {
    "id": "ZoQrk85QPcN2"
   },
   "outputs": [],
   "source": [
    "#price vs minimum_nights\n",
    "\n",
    "var='minimum_nights'\n",
    "data = pd.concat([df_air['price'],df_air[var]],axis=1)\n",
    "data.plot.scatter(x=var,y='price',ylim=(0,12000))\n",
    "plt.title(\"Price Vs Minimum_Nights\")"
   ]
  },
  {
   "cell_type": "markdown",
   "metadata": {
    "id": "5dBItgRVYoAp"
   },
   "source": [
    "**Observations**\n",
    "\n",
    "Look many data point are clustured on 0 price range, few have min night for stay but price is 0. look like anomaly in price.\n"
   ]
  },
  {
   "cell_type": "code",
   "execution_count": null,
   "metadata": {
    "id": "_Igg3UZYdi0L"
   },
   "outputs": [],
   "source": [
    "price_df = pd.DataFrame(df_air['price'].apply(price_catagory))\n",
    "price_df.head()"
   ]
  },
  {
   "cell_type": "code",
   "execution_count": null,
   "metadata": {
    "id": "Ww14mrLwiSHn"
   },
   "outputs": [],
   "source": [
    "plt.style.use('fivethirtyeight')\n",
    "\n",
    "price_500 = df_air[df_air.price<700]\n",
    "plt.figure(figsize=(10,6))\n",
    "plt.title(\"Price For Each Neighbourhood_Group\")\n",
    "sns.boxplot(y ='price',x ='neighbourhood_group',data=price_500)\n",
    "plt.show()"
   ]
  },
  {
   "cell_type": "markdown",
   "metadata": {
    "id": "OWjJZKN3nJuT"
   },
   "source": [
    "**observations:**\n",
    "\n",
    "\n",
    "1.   We can see that manhattan is the most expensive destination immedialty followed by brooklyn.\n",
    "2.   Queens, staten island and bronx, are having price rang less as  compaired to other two.\n",
    "\n"
   ]
  },
  {
   "cell_type": "code",
   "execution_count": null,
   "metadata": {
    "id": "ai1KX_MKpQ4a"
   },
   "outputs": [],
   "source": [
    "# grouping median price with neighbourhood_group\n",
    "neigh_group_price_group = df_air.groupby(['neighbourhood_group']).agg({'price':'median'}).reset_index()\n",
    "neigh_group_price_group\n"
   ]
  },
  {
   "cell_type": "code",
   "execution_count": null,
   "metadata": {
    "id": "tSQ-HScPsRxs"
   },
   "outputs": [],
   "source": [
    "\n",
    "plt.figure(figsize=(15,5))\n",
    "ax_12 =sns.barplot(x= 'neighbourhood_group', y = 'price', data = neigh_group_price_group)\n",
    "ax_12.set_title('Median_price vs  Neighbourhood_group')\n",
    "ax_12.set_xlabel('neighbourhood_group')\n",
    "ax_12.set_ylabel('median_price')\n",
    "plt.show()"
   ]
  },
  {
   "cell_type": "markdown",
   "metadata": {
    "id": "EXjQFV8PrcOp"
   },
   "source": [
    "**Observations:**\n",
    "\n",
    "In this chart, we have done median price Vs neighbourhood group"
   ]
  },
  {
   "cell_type": "code",
   "execution_count": null,
   "metadata": {
    "id": "irlUoxc8YrdO"
   },
   "outputs": [],
   "source": [
    "df_air.boxplot(column=['price'])\n",
    "plt.show()"
   ]
  },
  {
   "cell_type": "markdown",
   "metadata": {
    "id": "_xNBFbHypVR5"
   },
   "source": [
    "**Observations**\n",
    "\n",
    "With help of this chart we can see the presence of many outliers in price. definitely we'll remove those patience!"
   ]
  },
  {
   "cell_type": "markdown",
   "metadata": {
    "id": "bamQiAODYuh1"
   },
   "source": []
  },
  {
   "cell_type": "code",
   "execution_count": null,
   "metadata": {
    "id": "TIJwrbroYuh3"
   },
   "outputs": [],
   "source": [
    "# Chart - 5 visualization code.\n",
    "top_10_hosts=df_air['host_name'].value_counts()[:10]\n",
    "top_10_hosts #top 10 hosts on the basis of no of listings in entire NYC"
   ]
  },
  {
   "cell_type": "code",
   "execution_count": null,
   "metadata": {
    "id": "wddCrCTm_XCb"
   },
   "outputs": [],
   "source": [
    "top_10_hosts.plot(kind='bar',color=\"r\")\n",
    "plt.xlabel('Top10_host')\n",
    "plt.ylabel('Total_NYC_listings')\n",
    "plt.title('Top 10 hosts on the basis of no of listings in entire NYC')"
   ]
  },
  {
   "cell_type": "markdown",
   "metadata": {
    "id": "dcxuIMRPYuh3"
   },
   "source": [
    "**Observations**\n",
    "\n",
    "1.This chart is good to show the top 10 hosts on the basis of no of listings in entire NYC"
   ]
  },
  {
   "cell_type": "markdown",
   "metadata": {
    "id": "OH-pJp9IphqM"
   },
   "source": []
  },
  {
   "cell_type": "code",
   "execution_count": null,
   "metadata": {
    "id": "kAhS6XDsf2yd"
   },
   "outputs": [],
   "source": [
    "#Chart Visualization Code.\n",
    "\n",
    "corrmat = df_air.corr()\n",
    "f, ax = plt.subplots(figsize=(10,8))\n",
    "sns.heatmap(corrmat, vmax= .8, square=True);"
   ]
  },
  {
   "cell_type": "markdown",
   "metadata": {
    "id": "oqk1IBPyg6FD"
   },
   "source": [
    "Heatmap shows the correlation between diffrent feature\n",
    "\n"
   ]
  },
  {
   "cell_type": "markdown",
   "metadata": {
    "id": "iecmeZqShWcF"
   },
   "source": [
    "We an see that the corelation amoung the host_id to review per month and avilability 360 and also there are correlation in the min_night to no.off listing count and avilability 360. the price also show the sum correlation with avilability 360 and host_listing_count."
   ]
  },
  {
   "cell_type": "markdown",
   "metadata": {
    "id": "0EuLRQqJiONt"
   },
   "source": [
    "We get the overall correlaion between the different features that can effect the listing. so we know that correlation that will help to analysis the future.\n"
   ]
  },
  {
   "cell_type": "code",
   "execution_count": null,
   "metadata": {
    "id": "kuRf4wtuphqN"
   },
   "outputs": [],
   "source": [
    "plt.rcParams['figure.figsize']=(8,5)\n",
    "ax =sns.countplot(y='room_type',hue='neighbourhood_group',data=df_air,palette='bright')\n",
    "\n",
    "total = len(df_air['room_type'])\n",
    "for p in ax.patches:\n",
    "    percentage = '{:.1f}%' .format(100 * p.get_width()/total)\n",
    "    x = p.get_x() + p.get_width() + 0.02\n",
    "    y = p.get_y() + p.get_height() /2\n",
    "    ax.annotate(percentage,(x,y))\n",
    "\n",
    "plt.title('count of each room  type in entire NYC')\n",
    "plt.xlabel('Rooms')\n",
    "plt.xticks(rotation=90)\n",
    "plt.ylabel('Room counts')\n",
    "plt.show()"
   ]
  },
  {
   "cell_type": "markdown",
   "metadata": {
    "id": "VECbqPI7phqN"
   },
   "source": [
    "**Observations**\n",
    "\n",
    "Manhattan has more listed properties with Entire home/apt around 27% of total listed properties followed by Brooklyn with around 19.6%.\n",
    "Private rooms are more in Brooklyn as in 20.7% of the total listed properties followed by Manhattan with 16.3% of them. While 6.9% of private rooms are from Queens.\n",
    "Very few of the total listed have shared rooms listed on Airbnb where there's negligible or almost very rare shared rooms in Staten Island and Bronx.\n",
    "We can infer that Brooklyn,Queens,Bronx has more private room types while Manhattan which has the highest no of listings in entire NYC has more Entire home/apt room types.\n"
   ]
  },
  {
   "cell_type": "markdown",
   "metadata": {
    "id": "Seke61FWphqN"
   },
   "source": [
    "##### 3. Will the gained insights help creating a positive business impact? \n",
    "Are there any insights that lead to negative growth? Justify with specific reason."
   ]
  },
  {
   "cell_type": "markdown",
   "metadata": {
    "id": "DW4_bGpfphqN"
   },
   "source": [
    "\n",
    "\n",
    "Airbnb started with a simple idea: create an opportunity for travelers to experience life as a local in new and exciting destinations, without the hassle of hotels.\n",
    "Simple ideas often breed complex businesses, and Airbnb has now grown into a worldwide phenomenon. They facilitate rentals of millions of homes across the globe each year. This business success came about for a myriad of reasons — strong ideation, a growing customer base, and increased demand for travel. But Airbnb would not be successful without a powerful marketing strategy underpinning their operations.\n",
    "In this post we’ll dive into Airbnb’s marketing mix, the strategies that made them a successful brand, and how marketers can use these strategies to improve their own brand promotion operations\n"
   ]
  },
  {
   "cell_type": "markdown",
   "metadata": {
    "id": "JcMwzZxoAimU"
   },
   "source": [
    "## **5. Solution to Business Objective**"
   ]
  },
  {
   "cell_type": "markdown",
   "metadata": {
    "id": "8G2x9gOozGDZ"
   },
   "source": [
    "#### What do you suggest the client to achieve Business Objective ? \n",
    "Explain Briefly."
   ]
  },
  {
   "cell_type": "markdown",
   "metadata": {
    "id": "pASKb0qOza21"
   },
   "source": [
    "Airbnb’s product offerings differ between easy, affordable vacation rentals for its customers and an earning opportunity for its hosts.\n",
    "Renters are where Airbnb makes most of its income. As such, they maintain a high-quality mobile app and internet presence where these customers can easily make rental reservations.\n",
    "\n",
    "Hosts are Airbnb’s life-blood. Without this market they would be unable to rent out locations. The company offers hosts impressive incentives, making Airbnb hosting an easy opportunity to add a consistent stream of income.\n",
    "\n",
    "**Price**\n",
    "<!-- The original pricing strategy which made Airbnb a success was the company’s ability to undercut local hotels with affordable, comfortable rental locations. -->\n",
    "There is still an element of that market-based pricing at play. But now the company employs a more value-based pricing strategy that relies on the perceived and comparative value of bookings nearby to set prices.\n",
    "\n",
    "**Place**\n",
    "<!--  -->\n",
    "One of the greatest advantages Airbnb has over other rental management companies is its breadth of locations worldwide.\n",
    "With more than 4 million Airbnb hosts worldwide, you’re likely to find quality accommodations almost anywhere you travel.\n",
    "\n",
    "**Promotion**\n",
    "\n",
    "Airbnb has to promote to both travelers and guests in order to keep its rental system operating correctly. Marketing segmentation is a huge factor in Airbnb’s promotional strategy.\n",
    "Airbnb effectively promotes its service to travelers through a variety of traditional and digital advertisements along with word-of-mouth and referral marketing tactics.\n",
    "For hosts, Airbnb shares helpful content to help them make the most out of their Airbnb listings, along with traditional marketing campaigns like their “Made Possible by Hosts” campaign.\n"
   ]
  },
  {
   "cell_type": "markdown",
   "metadata": {
    "id": "gCX9965dhzqZ"
   },
   "source": [
    "# **Conclusion**"
   ]
  },
  {
   "cell_type": "markdown",
   "metadata": {
    "id": "Fjb1IsQkh3yE"
   },
   "source": [
    "# In this simple yet power full way we had done the EDA on Airbnb dataset. certainly this is not the end  rather this this the start we can say as per business requirement changes we need to find the insights in that direction and justify the business problems. There can be n-number of questions and n-number of dimension to explore the dataset and find the insight from them, this there is no limit unless the business constrain is solved."
   ]
  }
 ],
 "metadata": {
  "colab": {
   "private_outputs": true,
   "provenance": []
  },
  "kernelspec": {
   "display_name": "Python 3 (ipykernel)",
   "language": "python",
   "name": "python3"
  },
  "language_info": {
   "codemirror_mode": {
    "name": "ipython",
    "version": 3
   },
   "file_extension": ".py",
   "mimetype": "text/x-python",
   "name": "python",
   "nbconvert_exporter": "python",
   "pygments_lexer": "ipython3",
   "version": "3.9.13"
  }
 },
 "nbformat": 4,
 "nbformat_minor": 1
}
